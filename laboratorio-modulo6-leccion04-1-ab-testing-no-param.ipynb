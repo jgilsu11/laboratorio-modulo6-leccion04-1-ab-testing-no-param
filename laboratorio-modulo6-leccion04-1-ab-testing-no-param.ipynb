{
 "cells": [
  {
   "cell_type": "markdown",
   "metadata": {},
   "source": [
    "![hackio](https://github.com/Hack-io-Data/Imagenes/blob/main/01-LogosHackio/logo_celeste@4x.png?raw=true)\n"
   ]
  },
  {
   "cell_type": "markdown",
   "metadata": {},
   "source": [
    "# Laboratorio A/B Testing No Paramétricos\n",
    "\n",
    "**Aerolínea:** \n",
    "Alas del Mundo\n",
    "\n",
    "**Descripción de la Aerolínea**\n",
    "\n",
    "Alas del Mundo es una aerolínea internacional que opera una amplia red de rutas a nivel mundial. La compañía se enorgullece de ofrecer vuelos cómodos y asequibles a una variedad de destinos, atrayendo a una diversa gama de clientes.\n",
    "\n",
    "**Objetivo del Análisis**\n",
    "\n",
    "El objetivo de este ejercicio es determinar si existe una diferencia significativa en el número de vuelos reservados entre pasajeros con diferentes niveles educativos y si existe una diferencia significativa entre el género de sus clientes y su salario. La aerolínea desea entender mejor a sus clientes para poder personalizar sus campañas de marketing y mejorar sus estrategias de ventas.\n",
    "\n",
    "**Set de datos**\n",
    "\n",
    "El conjunto de datos *alas_del_mundo.csv* contiene información sobre clientes de la aerolínea Alas del Mundo. A continuación, tenemos una descripción de lo que nos podemos encontrar en el conjunto de datos:\n",
    "\n",
    "- **Loyalty Number**: Número de registro de cada uno de los clientes.\n",
    "\n",
    "- **Province**: Provincia de residencia del cliente.\n",
    "\n",
    "- **City**: Ciudad de residencia del cliente.\n",
    "\n",
    "- **Gender**: Género con el que se identifica el cliente.\n",
    "\n",
    "- **Education**: Nivel educativo del cliente.\n",
    "\n",
    "- **Salary**: Salario anual del cliente.\n",
    "\n",
    "- **Loyalty Card**: Nivel que tiene el cliente dentro del programa de fidelización de la aerolínea.\n",
    "\n",
    "- **CLV**: Valor total del cliente para la aerolínea a lo largo de toda su relación.\n",
    "\n",
    "- **Enrollment Type**: Forma de registro del cliente a la aerolínea.\n",
    "\n",
    "- **Enrollment Year**: Año de inscripción.\n",
    "\n",
    "- **Enrollment Month**: Mes de inscripción. \n",
    "\n",
    "- **Year**: Año en el que se realizan los vuelos.\n",
    "\n",
    "- **Month**: Mes en el que se realizan los vuelos.\n",
    "\n",
    "- **Flights Booked**: Vuelos reservados por el cliente en un mes y año concretos.\n",
    "\n",
    "- **Distance**: Distancia de vuelo del cliente en un mes y año concreto\n",
    "\n",
    "- **Points Accumulated**: Puntos acumulados por el cliente en un mes y año concretos.\n",
    "\n",
    "## Ejercicio 1:\n",
    "\n",
    "Antes de realizar el experimento A/B y formular hipótesis, es fundamental comprender a fondo el conjunto de datos y sus características. Para lograr esto, debes llevar a cabo un análisis exploratorio detallado de los datos (EDA), con el fin de familiarizarte con ellos y entender la información disponible.\n",
    "\n"
   ]
  },
  {
   "cell_type": "markdown",
   "metadata": {},
   "source": [
    "## EDA\n",
    "La aerolinea cuenta con 16737 clientes en esta base de datos.\n",
    "\n",
    "*CLV:*  \n",
    "El valor del cliente para la aerolina tiene una media de 7990,86 lo que dista bastante de la mediana (5776,34) lo que muestra una distorsión de la media\n",
    "\n",
    "*Enrollment Year y Month:* \n",
    "La media es el año 2015 y mes 6 lo que coincide con las medianas respectivas lo que tiene sentido.\n",
    "\n",
    "*Flights Booked:*  \n",
    "La media del número de vuelos cogidos por una persona es 4,13 lo que demuestra una elevada distorsión ya que la mediana es 1 vuelo. Además hemos visto como más del 25% de los clientes no han hecho ningun vuelo. Esto nos indica que la mayoría de clientes no reservan vuelos mientras que unos pocos si que son viajeros bastante habituales.\n",
    "\n",
    "*Distancia y puntos acumulados:*  \n",
    "Muestran de nuevo una gran distorsión entre la media y la mediana de la misma manera que habíamos identificado un sesgo en las reservas de vuelos.De hecho, tiene sentido que vayan de la mano.\n",
    "\n",
    "*Salario:*  \n",
    "Tras haber pasado a absolutos los negativos, ya podemos interpretar los valores.\n",
    "la media de salario anual de los viajeros 79371,73 lo que no coincide por 6000 aproximadamente con la mediana lo que muestra un sesgo hacia los salarios más altos. Además la desviación estándar nos muestra una variabilidad extremadamente alta pues es de 34726 $ lo que nos muestra que hay clientes con salarios anuales extremadamente bajos como por ejemplo el mínimo de 9081 $ mientras que también hay clientes con salarios extramadamente altos como por ejemplo el máximo de 407228 $ (Grandes diferencias salariales)\n",
    "\n",
    " \n",
    "**Nulos:**  \n",
    "  \n",
    "- He identificado más de 102260 nulos en el Salario y el total coincide con el total de clientes que van a College. Es por esto, que no podemos imputar ningún valor, eliminarlos ni inventarnos un dato por ello no queda otra que quedarnos con ellos.\n",
    "\n",
    "\n",
    "**Duplicados:**    \n",
    "- He observado que hay duplicados pero tras observarlos y analizarlos, decidí eliminarlos.\n",
    "\n",
    "\n",
    "***Datos de Interés***  \n",
    "  \n",
    "- Hemos observado también que hay 480 salarios negativos que corresponden a gente en High School or below y Bachelor. Dado que nadie paga por trabajar, lo más probable es que se trate de un error tipográfico y por ello decidí pasarlo a absoluto. \n",
    "  \n",
    "\n",
    "\n"
   ]
  },
  {
   "cell_type": "code",
   "execution_count": 2,
   "metadata": {},
   "outputs": [],
   "source": [
    "import pandas as pd\n",
    "import numpy as np\n",
    "from scipy import stats\n",
    "import seaborn as sns\n",
    "\n",
    "import matplotlib.pyplot as plt\n",
    "from itertools import combinations\n",
    "from src import funciones as f"
   ]
  },
  {
   "cell_type": "code",
   "execution_count": 3,
   "metadata": {},
   "outputs": [],
   "source": [
    "aerolinea=pd.read_csv(\"datos/alas_del_mundo.csv\")"
   ]
  },
  {
   "cell_type": "code",
   "execution_count": 4,
   "metadata": {},
   "outputs": [
    {
     "data": {
      "text/html": [
       "<div>\n",
       "<style scoped>\n",
       "    .dataframe tbody tr th:only-of-type {\n",
       "        vertical-align: middle;\n",
       "    }\n",
       "\n",
       "    .dataframe tbody tr th {\n",
       "        vertical-align: top;\n",
       "    }\n",
       "\n",
       "    .dataframe thead th {\n",
       "        text-align: right;\n",
       "    }\n",
       "</style>\n",
       "<table border=\"1\" class=\"dataframe\">\n",
       "  <thead>\n",
       "    <tr style=\"text-align: right;\">\n",
       "      <th></th>\n",
       "      <th>Loyalty Number</th>\n",
       "      <th>Province</th>\n",
       "      <th>City</th>\n",
       "      <th>Gender</th>\n",
       "      <th>Education</th>\n",
       "      <th>Salary</th>\n",
       "      <th>Loyalty Card</th>\n",
       "      <th>CLV</th>\n",
       "      <th>Enrollment Type</th>\n",
       "      <th>Enrollment Year</th>\n",
       "      <th>Enrollment Month</th>\n",
       "      <th>Year</th>\n",
       "      <th>Month</th>\n",
       "      <th>Flights Booked</th>\n",
       "      <th>Distance</th>\n",
       "      <th>Points Accumulated</th>\n",
       "    </tr>\n",
       "  </thead>\n",
       "  <tbody>\n",
       "    <tr>\n",
       "      <th>0</th>\n",
       "      <td>480934</td>\n",
       "      <td>Ontario</td>\n",
       "      <td>Toronto</td>\n",
       "      <td>Female</td>\n",
       "      <td>Bachelor</td>\n",
       "      <td>83236.0</td>\n",
       "      <td>Star</td>\n",
       "      <td>3839.14</td>\n",
       "      <td>Standard</td>\n",
       "      <td>2016</td>\n",
       "      <td>2</td>\n",
       "      <td>2017</td>\n",
       "      <td>1</td>\n",
       "      <td>0</td>\n",
       "      <td>0</td>\n",
       "      <td>0.0</td>\n",
       "    </tr>\n",
       "    <tr>\n",
       "      <th>1</th>\n",
       "      <td>480934</td>\n",
       "      <td>Ontario</td>\n",
       "      <td>Toronto</td>\n",
       "      <td>Female</td>\n",
       "      <td>Bachelor</td>\n",
       "      <td>83236.0</td>\n",
       "      <td>Star</td>\n",
       "      <td>3839.14</td>\n",
       "      <td>Standard</td>\n",
       "      <td>2016</td>\n",
       "      <td>2</td>\n",
       "      <td>2017</td>\n",
       "      <td>2</td>\n",
       "      <td>3</td>\n",
       "      <td>2823</td>\n",
       "      <td>282.0</td>\n",
       "    </tr>\n",
       "    <tr>\n",
       "      <th>2</th>\n",
       "      <td>480934</td>\n",
       "      <td>Ontario</td>\n",
       "      <td>Toronto</td>\n",
       "      <td>Female</td>\n",
       "      <td>Bachelor</td>\n",
       "      <td>83236.0</td>\n",
       "      <td>Star</td>\n",
       "      <td>3839.14</td>\n",
       "      <td>Standard</td>\n",
       "      <td>2016</td>\n",
       "      <td>2</td>\n",
       "      <td>2017</td>\n",
       "      <td>3</td>\n",
       "      <td>0</td>\n",
       "      <td>0</td>\n",
       "      <td>0.0</td>\n",
       "    </tr>\n",
       "  </tbody>\n",
       "</table>\n",
       "</div>"
      ],
      "text/plain": [
       "   Loyalty Number Province     City  Gender Education   Salary Loyalty Card  \\\n",
       "0          480934  Ontario  Toronto  Female  Bachelor  83236.0         Star   \n",
       "1          480934  Ontario  Toronto  Female  Bachelor  83236.0         Star   \n",
       "2          480934  Ontario  Toronto  Female  Bachelor  83236.0         Star   \n",
       "\n",
       "       CLV Enrollment Type  Enrollment Year  Enrollment Month  Year  Month  \\\n",
       "0  3839.14        Standard             2016                 2  2017      1   \n",
       "1  3839.14        Standard             2016                 2  2017      2   \n",
       "2  3839.14        Standard             2016                 2  2017      3   \n",
       "\n",
       "   Flights Booked  Distance  Points Accumulated  \n",
       "0               0         0                 0.0  \n",
       "1               3      2823               282.0  \n",
       "2               0         0                 0.0  "
      ]
     },
     "execution_count": 4,
     "metadata": {},
     "output_type": "execute_result"
    }
   ],
   "source": [
    "aerolinea.head(3)"
   ]
  },
  {
   "cell_type": "code",
   "execution_count": 5,
   "metadata": {},
   "outputs": [
    {
     "name": "stdout",
     "output_type": "stream",
     "text": [
      "<class 'pandas.core.frame.DataFrame'>\n",
      "RangeIndex: 405624 entries, 0 to 405623\n",
      "Data columns (total 16 columns):\n",
      " #   Column              Non-Null Count   Dtype  \n",
      "---  ------              --------------   -----  \n",
      " 0   Loyalty Number      405624 non-null  int64  \n",
      " 1   Province            405624 non-null  object \n",
      " 2   City                405624 non-null  object \n",
      " 3   Gender              405624 non-null  object \n",
      " 4   Education           405624 non-null  object \n",
      " 5   Salary              302952 non-null  float64\n",
      " 6   Loyalty Card        405624 non-null  object \n",
      " 7   CLV                 405624 non-null  float64\n",
      " 8   Enrollment Type     405624 non-null  object \n",
      " 9   Enrollment Year     405624 non-null  int64  \n",
      " 10  Enrollment Month    405624 non-null  int64  \n",
      " 11  Year                405624 non-null  int64  \n",
      " 12  Month               405624 non-null  int64  \n",
      " 13  Flights Booked      405624 non-null  int64  \n",
      " 14  Distance            405624 non-null  int64  \n",
      " 15  Points Accumulated  405624 non-null  float64\n",
      "dtypes: float64(3), int64(7), object(6)\n",
      "memory usage: 49.5+ MB\n"
     ]
    }
   ],
   "source": [
    "aerolinea.info()"
   ]
  },
  {
   "cell_type": "code",
   "execution_count": 6,
   "metadata": {},
   "outputs": [
    {
     "data": {
      "text/plain": [
       "(102672, 16)"
      ]
     },
     "execution_count": 6,
     "metadata": {},
     "output_type": "execute_result"
    }
   ],
   "source": [
    "aerolinea[aerolinea[\"Salary\"].isnull()].shape"
   ]
  },
  {
   "cell_type": "code",
   "execution_count": 7,
   "metadata": {},
   "outputs": [
    {
     "data": {
      "text/plain": [
       "(102672, 16)"
      ]
     },
     "execution_count": 7,
     "metadata": {},
     "output_type": "execute_result"
    }
   ],
   "source": [
    "aerolinea[aerolinea[\"Education\"]== \"College\"].shape"
   ]
  },
  {
   "cell_type": "code",
   "execution_count": 8,
   "metadata": {},
   "outputs": [
    {
     "data": {
      "text/html": [
       "<div>\n",
       "<style scoped>\n",
       "    .dataframe tbody tr th:only-of-type {\n",
       "        vertical-align: middle;\n",
       "    }\n",
       "\n",
       "    .dataframe tbody tr th {\n",
       "        vertical-align: top;\n",
       "    }\n",
       "\n",
       "    .dataframe thead th {\n",
       "        text-align: right;\n",
       "    }\n",
       "</style>\n",
       "<table border=\"1\" class=\"dataframe\">\n",
       "  <thead>\n",
       "    <tr style=\"text-align: right;\">\n",
       "      <th></th>\n",
       "      <th>Loyalty Number</th>\n",
       "      <th>Province</th>\n",
       "      <th>City</th>\n",
       "      <th>Gender</th>\n",
       "      <th>Education</th>\n",
       "      <th>Salary</th>\n",
       "      <th>Loyalty Card</th>\n",
       "      <th>CLV</th>\n",
       "      <th>Enrollment Type</th>\n",
       "      <th>Enrollment Year</th>\n",
       "      <th>Enrollment Month</th>\n",
       "      <th>Year</th>\n",
       "      <th>Month</th>\n",
       "      <th>Flights Booked</th>\n",
       "      <th>Distance</th>\n",
       "      <th>Points Accumulated</th>\n",
       "    </tr>\n",
       "  </thead>\n",
       "  <tbody>\n",
       "    <tr>\n",
       "      <th>26328</th>\n",
       "      <td>542976</td>\n",
       "      <td>Quebec</td>\n",
       "      <td>Montreal</td>\n",
       "      <td>Male</td>\n",
       "      <td>High School or Below</td>\n",
       "      <td>-49830.0</td>\n",
       "      <td>Star</td>\n",
       "      <td>24127.5</td>\n",
       "      <td>2018 Promotion</td>\n",
       "      <td>2018</td>\n",
       "      <td>3</td>\n",
       "      <td>2017</td>\n",
       "      <td>1</td>\n",
       "      <td>0</td>\n",
       "      <td>0</td>\n",
       "      <td>0.0</td>\n",
       "    </tr>\n",
       "    <tr>\n",
       "      <th>26329</th>\n",
       "      <td>542976</td>\n",
       "      <td>Quebec</td>\n",
       "      <td>Montreal</td>\n",
       "      <td>Male</td>\n",
       "      <td>High School or Below</td>\n",
       "      <td>-49830.0</td>\n",
       "      <td>Star</td>\n",
       "      <td>24127.5</td>\n",
       "      <td>2018 Promotion</td>\n",
       "      <td>2018</td>\n",
       "      <td>3</td>\n",
       "      <td>2017</td>\n",
       "      <td>2</td>\n",
       "      <td>0</td>\n",
       "      <td>0</td>\n",
       "      <td>0.0</td>\n",
       "    </tr>\n",
       "    <tr>\n",
       "      <th>26330</th>\n",
       "      <td>542976</td>\n",
       "      <td>Quebec</td>\n",
       "      <td>Montreal</td>\n",
       "      <td>Male</td>\n",
       "      <td>High School or Below</td>\n",
       "      <td>-49830.0</td>\n",
       "      <td>Star</td>\n",
       "      <td>24127.5</td>\n",
       "      <td>2018 Promotion</td>\n",
       "      <td>2018</td>\n",
       "      <td>3</td>\n",
       "      <td>2017</td>\n",
       "      <td>3</td>\n",
       "      <td>0</td>\n",
       "      <td>0</td>\n",
       "      <td>0.0</td>\n",
       "    </tr>\n",
       "  </tbody>\n",
       "</table>\n",
       "</div>"
      ],
      "text/plain": [
       "       Loyalty Number Province      City Gender             Education  \\\n",
       "26328          542976   Quebec  Montreal   Male  High School or Below   \n",
       "26329          542976   Quebec  Montreal   Male  High School or Below   \n",
       "26330          542976   Quebec  Montreal   Male  High School or Below   \n",
       "\n",
       "        Salary Loyalty Card      CLV Enrollment Type  Enrollment Year  \\\n",
       "26328 -49830.0         Star  24127.5  2018 Promotion             2018   \n",
       "26329 -49830.0         Star  24127.5  2018 Promotion             2018   \n",
       "26330 -49830.0         Star  24127.5  2018 Promotion             2018   \n",
       "\n",
       "       Enrollment Month  Year  Month  Flights Booked  Distance  \\\n",
       "26328                 3  2017      1               0         0   \n",
       "26329                 3  2017      2               0         0   \n",
       "26330                 3  2017      3               0         0   \n",
       "\n",
       "       Points Accumulated  \n",
       "26328                 0.0  \n",
       "26329                 0.0  \n",
       "26330                 0.0  "
      ]
     },
     "execution_count": 8,
     "metadata": {},
     "output_type": "execute_result"
    }
   ],
   "source": [
    "aerolinea[aerolinea[\"Salary\"] < 0].head(3)"
   ]
  },
  {
   "cell_type": "markdown",
   "metadata": {},
   "source": [
    "Aqui paso a absolutos los negativos"
   ]
  },
  {
   "cell_type": "code",
   "execution_count": 9,
   "metadata": {},
   "outputs": [],
   "source": [
    "aerolinea[\"Salary\"]= aerolinea[\"Salary\"].apply(lambda x: abs(x) if x < 0 else x)"
   ]
  },
  {
   "cell_type": "code",
   "execution_count": 10,
   "metadata": {},
   "outputs": [
    {
     "data": {
      "text/html": [
       "<div>\n",
       "<style scoped>\n",
       "    .dataframe tbody tr th:only-of-type {\n",
       "        vertical-align: middle;\n",
       "    }\n",
       "\n",
       "    .dataframe tbody tr th {\n",
       "        vertical-align: top;\n",
       "    }\n",
       "\n",
       "    .dataframe thead th {\n",
       "        text-align: right;\n",
       "    }\n",
       "</style>\n",
       "<table border=\"1\" class=\"dataframe\">\n",
       "  <thead>\n",
       "    <tr style=\"text-align: right;\">\n",
       "      <th></th>\n",
       "      <th>count</th>\n",
       "      <th>mean</th>\n",
       "      <th>std</th>\n",
       "      <th>min</th>\n",
       "      <th>25%</th>\n",
       "      <th>50%</th>\n",
       "      <th>75%</th>\n",
       "      <th>max</th>\n",
       "    </tr>\n",
       "  </thead>\n",
       "  <tbody>\n",
       "    <tr>\n",
       "      <th>Loyalty Number</th>\n",
       "      <td>405624.0</td>\n",
       "      <td>550037.873084</td>\n",
       "      <td>258935.286969</td>\n",
       "      <td>100018.00</td>\n",
       "      <td>326961.00</td>\n",
       "      <td>550834.00</td>\n",
       "      <td>772194.00</td>\n",
       "      <td>999986.00</td>\n",
       "    </tr>\n",
       "    <tr>\n",
       "      <th>Salary</th>\n",
       "      <td>302952.0</td>\n",
       "      <td>79381.440228</td>\n",
       "      <td>34735.904533</td>\n",
       "      <td>9081.00</td>\n",
       "      <td>59262.00</td>\n",
       "      <td>73479.00</td>\n",
       "      <td>88612.00</td>\n",
       "      <td>407228.00</td>\n",
       "    </tr>\n",
       "    <tr>\n",
       "      <th>CLV</th>\n",
       "      <td>405624.0</td>\n",
       "      <td>7991.976226</td>\n",
       "      <td>6863.663857</td>\n",
       "      <td>1898.01</td>\n",
       "      <td>3985.32</td>\n",
       "      <td>5776.34</td>\n",
       "      <td>8936.82</td>\n",
       "      <td>83325.38</td>\n",
       "    </tr>\n",
       "    <tr>\n",
       "      <th>Enrollment Year</th>\n",
       "      <td>405624.0</td>\n",
       "      <td>2015.252529</td>\n",
       "      <td>1.979427</td>\n",
       "      <td>2012.00</td>\n",
       "      <td>2014.00</td>\n",
       "      <td>2015.00</td>\n",
       "      <td>2017.00</td>\n",
       "      <td>2018.00</td>\n",
       "    </tr>\n",
       "    <tr>\n",
       "      <th>Enrollment Month</th>\n",
       "      <td>405624.0</td>\n",
       "      <td>6.668008</td>\n",
       "      <td>3.399766</td>\n",
       "      <td>1.00</td>\n",
       "      <td>4.00</td>\n",
       "      <td>7.00</td>\n",
       "      <td>10.00</td>\n",
       "      <td>12.00</td>\n",
       "    </tr>\n",
       "    <tr>\n",
       "      <th>Year</th>\n",
       "      <td>405624.0</td>\n",
       "      <td>2017.500000</td>\n",
       "      <td>0.500001</td>\n",
       "      <td>2017.00</td>\n",
       "      <td>2017.00</td>\n",
       "      <td>2017.50</td>\n",
       "      <td>2018.00</td>\n",
       "      <td>2018.00</td>\n",
       "    </tr>\n",
       "    <tr>\n",
       "      <th>Month</th>\n",
       "      <td>405624.0</td>\n",
       "      <td>6.500000</td>\n",
       "      <td>3.452057</td>\n",
       "      <td>1.00</td>\n",
       "      <td>3.75</td>\n",
       "      <td>6.50</td>\n",
       "      <td>9.25</td>\n",
       "      <td>12.00</td>\n",
       "    </tr>\n",
       "    <tr>\n",
       "      <th>Flights Booked</th>\n",
       "      <td>405624.0</td>\n",
       "      <td>4.115052</td>\n",
       "      <td>5.225518</td>\n",
       "      <td>0.00</td>\n",
       "      <td>0.00</td>\n",
       "      <td>1.00</td>\n",
       "      <td>8.00</td>\n",
       "      <td>21.00</td>\n",
       "    </tr>\n",
       "    <tr>\n",
       "      <th>Distance</th>\n",
       "      <td>405624.0</td>\n",
       "      <td>1208.880059</td>\n",
       "      <td>1433.155320</td>\n",
       "      <td>0.00</td>\n",
       "      <td>0.00</td>\n",
       "      <td>488.00</td>\n",
       "      <td>2336.00</td>\n",
       "      <td>6293.00</td>\n",
       "    </tr>\n",
       "    <tr>\n",
       "      <th>Points Accumulated</th>\n",
       "      <td>405624.0</td>\n",
       "      <td>123.692721</td>\n",
       "      <td>146.599831</td>\n",
       "      <td>0.00</td>\n",
       "      <td>0.00</td>\n",
       "      <td>50.00</td>\n",
       "      <td>239.00</td>\n",
       "      <td>676.50</td>\n",
       "    </tr>\n",
       "  </tbody>\n",
       "</table>\n",
       "</div>"
      ],
      "text/plain": [
       "                       count           mean            std        min  \\\n",
       "Loyalty Number      405624.0  550037.873084  258935.286969  100018.00   \n",
       "Salary              302952.0   79381.440228   34735.904533    9081.00   \n",
       "CLV                 405624.0    7991.976226    6863.663857    1898.01   \n",
       "Enrollment Year     405624.0    2015.252529       1.979427    2012.00   \n",
       "Enrollment Month    405624.0       6.668008       3.399766       1.00   \n",
       "Year                405624.0    2017.500000       0.500001    2017.00   \n",
       "Month               405624.0       6.500000       3.452057       1.00   \n",
       "Flights Booked      405624.0       4.115052       5.225518       0.00   \n",
       "Distance            405624.0    1208.880059    1433.155320       0.00   \n",
       "Points Accumulated  405624.0     123.692721     146.599831       0.00   \n",
       "\n",
       "                          25%        50%        75%        max  \n",
       "Loyalty Number      326961.00  550834.00  772194.00  999986.00  \n",
       "Salary               59262.00   73479.00   88612.00  407228.00  \n",
       "CLV                   3985.32    5776.34    8936.82   83325.38  \n",
       "Enrollment Year       2014.00    2015.00    2017.00    2018.00  \n",
       "Enrollment Month         4.00       7.00      10.00      12.00  \n",
       "Year                  2017.00    2017.50    2018.00    2018.00  \n",
       "Month                    3.75       6.50       9.25      12.00  \n",
       "Flights Booked           0.00       1.00       8.00      21.00  \n",
       "Distance                 0.00     488.00    2336.00    6293.00  \n",
       "Points Accumulated       0.00      50.00     239.00     676.50  "
      ]
     },
     "execution_count": 10,
     "metadata": {},
     "output_type": "execute_result"
    }
   ],
   "source": [
    "aerolinea.describe().T"
   ]
  },
  {
   "cell_type": "code",
   "execution_count": 11,
   "metadata": {},
   "outputs": [
    {
     "data": {
      "text/html": [
       "<div>\n",
       "<style scoped>\n",
       "    .dataframe tbody tr th:only-of-type {\n",
       "        vertical-align: middle;\n",
       "    }\n",
       "\n",
       "    .dataframe tbody tr th {\n",
       "        vertical-align: top;\n",
       "    }\n",
       "\n",
       "    .dataframe thead th {\n",
       "        text-align: right;\n",
       "    }\n",
       "</style>\n",
       "<table border=\"1\" class=\"dataframe\">\n",
       "  <thead>\n",
       "    <tr style=\"text-align: right;\">\n",
       "      <th></th>\n",
       "      <th>count</th>\n",
       "      <th>unique</th>\n",
       "      <th>top</th>\n",
       "      <th>freq</th>\n",
       "    </tr>\n",
       "  </thead>\n",
       "  <tbody>\n",
       "    <tr>\n",
       "      <th>Province</th>\n",
       "      <td>405624</td>\n",
       "      <td>11</td>\n",
       "      <td>Ontario</td>\n",
       "      <td>130896</td>\n",
       "    </tr>\n",
       "    <tr>\n",
       "      <th>City</th>\n",
       "      <td>405624</td>\n",
       "      <td>29</td>\n",
       "      <td>Toronto</td>\n",
       "      <td>81096</td>\n",
       "    </tr>\n",
       "    <tr>\n",
       "      <th>Gender</th>\n",
       "      <td>405624</td>\n",
       "      <td>2</td>\n",
       "      <td>Female</td>\n",
       "      <td>203640</td>\n",
       "    </tr>\n",
       "    <tr>\n",
       "      <th>Education</th>\n",
       "      <td>405624</td>\n",
       "      <td>5</td>\n",
       "      <td>Bachelor</td>\n",
       "      <td>253752</td>\n",
       "    </tr>\n",
       "    <tr>\n",
       "      <th>Loyalty Card</th>\n",
       "      <td>405624</td>\n",
       "      <td>3</td>\n",
       "      <td>Star</td>\n",
       "      <td>184224</td>\n",
       "    </tr>\n",
       "    <tr>\n",
       "      <th>Enrollment Type</th>\n",
       "      <td>405624</td>\n",
       "      <td>2</td>\n",
       "      <td>Standard</td>\n",
       "      <td>382200</td>\n",
       "    </tr>\n",
       "  </tbody>\n",
       "</table>\n",
       "</div>"
      ],
      "text/plain": [
       "                  count unique       top    freq\n",
       "Province         405624     11   Ontario  130896\n",
       "City             405624     29   Toronto   81096\n",
       "Gender           405624      2    Female  203640\n",
       "Education        405624      5  Bachelor  253752\n",
       "Loyalty Card     405624      3      Star  184224\n",
       "Enrollment Type  405624      2  Standard  382200"
      ]
     },
     "execution_count": 11,
     "metadata": {},
     "output_type": "execute_result"
    }
   ],
   "source": [
    "aerolinea.describe(include=(\"O\")).T"
   ]
  },
  {
   "cell_type": "code",
   "execution_count": 12,
   "metadata": {},
   "outputs": [
    {
     "data": {
      "text/plain": [
       "np.int64(1864)"
      ]
     },
     "execution_count": 12,
     "metadata": {},
     "output_type": "execute_result"
    }
   ],
   "source": [
    "aerolinea.duplicated().sum()"
   ]
  },
  {
   "cell_type": "code",
   "execution_count": 13,
   "metadata": {},
   "outputs": [],
   "source": [
    "aerolinea.drop_duplicates(inplace=True)"
   ]
  },
  {
   "cell_type": "code",
   "execution_count": 14,
   "metadata": {},
   "outputs": [
    {
     "data": {
      "text/plain": [
       "Loyalty Card  Gender\n",
       "Aurora        Female    74612.0\n",
       "              Male      73943.0\n",
       "Nova          Female    73945.0\n",
       "              Male      72656.0\n",
       "Star          Female    72900.0\n",
       "              Male      73336.0\n",
       "Name: Salary, dtype: float64"
      ]
     },
     "execution_count": 14,
     "metadata": {},
     "output_type": "execute_result"
    }
   ],
   "source": [
    "aerolinea.groupby([\"Loyalty Card\", \"Gender\"])[\"Salary\"].median()"
   ]
  },
  {
   "cell_type": "markdown",
   "metadata": {},
   "source": [
    "## Ejercicio 2:\n",
    "Determina si existe una diferencia significativa en el número de vuelos reservados entre los diferentes niveles educativos.\n",
    "\n",
    " Pasos a seguir:\n",
    "\n",
    "   - Definición de la hipótesis.\n",
    "   - Prueba de hipótesis\n",
    "   - Análisis de resultados\n",
    "   - Conclusiones\n",
    "   \n"
   ]
  },
  {
   "cell_type": "code",
   "execution_count": 15,
   "metadata": {},
   "outputs": [
    {
     "name": "stdout",
     "output_type": "stream",
     "text": [
      "la metrica para Bachelor sigue una distribución normal según el test de Kolmogorov-Smirnov. Esta afirmación es False\n",
      "la metrica para College sigue una distribución normal según el test de Kolmogorov-Smirnov. Esta afirmación es False\n",
      "la metrica para Master sigue una distribución normal según el test de Kolmogorov-Smirnov. Esta afirmación es False\n",
      "la metrica para High School or Below sigue una distribución normal según el test de Kolmogorov-Smirnov. Esta afirmación es False\n",
      "la metrica para Doctor sigue una distribución normal según el test de Kolmogorov-Smirnov. Esta afirmación es False\n"
     ]
    }
   ],
   "source": [
    "f.usar_kolmogorov(aerolinea,\"Education\" , \"Flights Booked\")"
   ]
  },
  {
   "cell_type": "code",
   "execution_count": 16,
   "metadata": {},
   "outputs": [
    {
     "name": "stdout",
     "output_type": "stream",
     "text": [
      "El test óptimo es Kruskall-Wallis\n"
     ]
    },
    {
     "data": {
      "text/plain": [
       "KruskalResult(statistic=np.float64(17.532618623121756), pvalue=np.float64(0.0015225470219889365))"
      ]
     },
     "execution_count": 16,
     "metadata": {},
     "output_type": "execute_result"
    }
   ],
   "source": [
    "lista_datos=f.crear_df_grupo(aerolinea,\"Education\",\"Flights Booked\")\n",
    "f.elegir_test(lista_datos,dependencia=False)"
   ]
  },
  {
   "cell_type": "markdown",
   "metadata": {},
   "source": [
    "Como el p-value < 0,05 no hay evidencia suficiente para aceptar la Ho lo que significa que hay diferencias en el número de reservas de vuelo en función del nivel educativo (al menos uno es diferente)."
   ]
  },
  {
   "cell_type": "code",
   "execution_count": 17,
   "metadata": {},
   "outputs": [
    {
     "name": "stderr",
     "output_type": "stream",
     "text": [
      "C:\\Users\\jaime\\AppData\\Local\\Temp\\ipykernel_9072\\459867659.py:2: FutureWarning: \n",
      "\n",
      "Passing `palette` without assigning `hue` is deprecated and will be removed in v0.14.0. Assign the `x` variable to `hue` and set `legend=False` for the same effect.\n",
      "\n",
      "  sns.barplot(x=\"Education\", y=\"Flights Booked\", data=aerolinea , palette=\"mako\")\n"
     ]
    },
    {
     "data": {
      "text/plain": [
       "Text(0, 0.5, 'Número de reservas de vuelo')"
      ]
     },
     "execution_count": 17,
     "metadata": {},
     "output_type": "execute_result"
    },
    {
     "data": {
      "image/png": "[encoded data removed]",
      "text/plain": [
       "<Figure size 800x600 with 1 Axes>"
      ]
     },
     "metadata": {},
     "output_type": "display_data"
    }
   ],
   "source": [
    "plt.figure(figsize=(8,6))\n",
    "sns.barplot(x=\"Education\", y=\"Flights Booked\", data=aerolinea , palette=\"mako\")\n",
    "plt.title(\"Número de reservas por nivel de educación\")\n",
    "plt.xlabel(\"Educación\")\n",
    "plt.ylabel(\"Número de reservas de vuelo\")"
   ]
  },
  {
   "cell_type": "code",
   "execution_count": 18,
   "metadata": {},
   "outputs": [
    {
     "name": "stderr",
     "output_type": "stream",
     "text": [
      "C:\\Users\\jaime\\AppData\\Local\\Temp\\ipykernel_9072\\226430264.py:2: FutureWarning: \n",
      "\n",
      "Passing `palette` without assigning `hue` is deprecated and will be removed in v0.14.0. Assign the `x` variable to `hue` and set `legend=False` for the same effect.\n",
      "\n",
      "  sns.boxplot(x=\"Education\", y=\"Flights Booked\", data=aerolinea , palette=\"mako\")\n"
     ]
    },
    {
     "data": {
      "text/plain": [
       "Text(0, 0.5, 'Número de reservas de vuelo')"
      ]
     },
     "execution_count": 18,
     "metadata": {},
     "output_type": "execute_result"
    },
    {
     "data": {
      "image/png": "[encoded data removed]",
      "text/plain": [
       "<Figure size 800x600 with 1 Axes>"
      ]
     },
     "metadata": {},
     "output_type": "display_data"
    }
   ],
   "source": [
    "plt.figure(figsize=(8,6))\n",
    "sns.boxplot(x=\"Education\", y=\"Flights Booked\", data=aerolinea , palette=\"mako\")\n",
    "plt.title(\"Distribucion del número de reservas por nivel de educación\")\n",
    "plt.xlabel(\"Educación\")\n",
    "plt.ylabel(\"Número de reservas de vuelo\")"
   ]
  },
  {
   "cell_type": "markdown",
   "metadata": {},
   "source": [
    "Como no se pueden identificar gráficamente esas diferencias toca evaluar las distintas combinaciones"
   ]
  },
  {
   "cell_type": "code",
   "execution_count": 19,
   "metadata": {},
   "outputs": [
    {
     "name": "stdout",
     "output_type": "stream",
     "text": [
      "La evaluación de la hipótesis entre Bachelor y College da un p-value de 0.002278100128804696\n",
      "Hay diferencia\n",
      ".................\n",
      "La evaluación de la hipótesis entre Bachelor y Master da un p-value de 0.014056962299193064\n",
      "Hay diferencia\n",
      ".................\n",
      "La evaluación de la hipótesis entre Bachelor y High School or Below da un p-value de 0.036000727159277525\n",
      "Hay diferencia\n",
      ".................\n",
      "La evaluación de la hipótesis entre Bachelor y Doctor da un p-value de 0.09460787010212152\n",
      "No hay diferencia\n",
      ".................\n",
      "La evaluación de la hipótesis entre College y Master da un p-value de 0.23837842894303352\n",
      "No hay diferencia\n",
      ".................\n",
      "La evaluación de la hipótesis entre College y High School or Below da un p-value de 0.575742751816062\n",
      "No hay diferencia\n",
      ".................\n",
      "La evaluación de la hipótesis entre College y Doctor da un p-value de 0.8395531886114369\n",
      "No hay diferencia\n",
      ".................\n",
      "La evaluación de la hipótesis entre Master y High School or Below da un p-value de 0.5556798765637352\n",
      "No hay diferencia\n",
      ".................\n",
      "La evaluación de la hipótesis entre Master y Doctor da un p-value de 0.41389638430638065\n",
      "No hay diferencia\n",
      ".................\n",
      "La evaluación de la hipótesis entre High School or Below y Doctor da un p-value de 0.78955580160671\n",
      "No hay diferencia\n",
      ".................\n"
     ]
    }
   ],
   "source": [
    "f.usar_whitney(aerolinea,\"Education\" , \"Flights Booked\")"
   ]
  },
  {
   "cell_type": "markdown",
   "metadata": {},
   "source": [
    "**Finalmente, concluimos que los clientes con un nivel educativo de Bachelor tienen un menor número de reservas de vuelos medio con respecto al resto de niveles educativos. Esto podría estar relacionado con los ingresos pero lo confirmaremos en el siguiente apartado.**"
   ]
  },
  {
   "cell_type": "markdown",
   "metadata": {},
   "source": [
    "## Ejercicio 3:\n",
    "Determina si existe una diferencia significativa en el salario de los clientes en función del género de los mismos.\n",
    "\n",
    "Pasos a seguir:\n",
    "   - Definición de la hipótesis.\n",
    "   - Prueba de hipótesis\n",
    "   - Análisis de resultados\n",
    "   - Conclusiones"
   ]
  },
  {
   "cell_type": "markdown",
   "metadata": {},
   "source": [
    "Ahora que ya hemos tenido en cuenta College paso a elimiar los nulos para el ejercicio 3"
   ]
  },
  {
   "cell_type": "code",
   "execution_count": 20,
   "metadata": {},
   "outputs": [],
   "source": [
    "aerolineasin=aerolinea.dropna()"
   ]
  },
  {
   "cell_type": "code",
   "execution_count": 21,
   "metadata": {},
   "outputs": [
    {
     "data": {
      "text/plain": [
       "(301500, 16)"
      ]
     },
     "execution_count": 21,
     "metadata": {},
     "output_type": "execute_result"
    }
   ],
   "source": [
    "aerolineasin.shape"
   ]
  },
  {
   "cell_type": "code",
   "execution_count": 22,
   "metadata": {},
   "outputs": [
    {
     "name": "stdout",
     "output_type": "stream",
     "text": [
      "la metrica para Female sigue una distribución normal según el test de Kolmogorov-Smirnov. Esta afirmación es False\n",
      "la metrica para Male sigue una distribución normal según el test de Kolmogorov-Smirnov. Esta afirmación es False\n"
     ]
    }
   ],
   "source": [
    "f.usar_kolmogorov(aerolineasin,\"Gender\" , \"Salary\")"
   ]
  },
  {
   "cell_type": "code",
   "execution_count": 23,
   "metadata": {},
   "outputs": [
    {
     "name": "stdout",
     "output_type": "stream",
     "text": [
      "El test óptimo es Mann-Whitney\n"
     ]
    },
    {
     "data": {
      "text/plain": [
       "MannwhitneyuResult(statistic=np.float64(11463807930.0), pvalue=np.float64(1.8291925056993112e-05))"
      ]
     },
     "execution_count": 23,
     "metadata": {},
     "output_type": "execute_result"
    }
   ],
   "source": [
    "lista_datos=f.crear_df_grupo(aerolineasin,\"Gender\",\"Salary\")\n",
    "f.elegir_test(lista_datos,dependencia=False)"
   ]
  },
  {
   "cell_type": "markdown",
   "metadata": {},
   "source": [
    "Como el p-value < 0,05 no hay evidencia suficiente para aceptar la Ho lo que significa que hay diferencias en el salario en función del género."
   ]
  },
  {
   "cell_type": "code",
   "execution_count": 24,
   "metadata": {},
   "outputs": [
    {
     "name": "stderr",
     "output_type": "stream",
     "text": [
      "C:\\Users\\jaime\\AppData\\Local\\Temp\\ipykernel_9072\\282756715.py:2: FutureWarning: \n",
      "\n",
      "Passing `palette` without assigning `hue` is deprecated and will be removed in v0.14.0. Assign the `x` variable to `hue` and set `legend=False` for the same effect.\n",
      "\n",
      "  sns.barplot(x=\"Gender\", y=\"Salary\", data=aerolineasin , palette=\"mako\")\n"
     ]
    },
    {
     "data": {
      "text/plain": [
       "Text(0, 0.5, 'Salario')"
      ]
     },
     "execution_count": 24,
     "metadata": {},
     "output_type": "execute_result"
    },
    {
     "data": {
      "image/png": "[encoded data removed]",
      "text/plain": [
       "<Figure size 800x600 with 1 Axes>"
      ]
     },
     "metadata": {},
     "output_type": "display_data"
    }
   ],
   "source": [
    "plt.figure(figsize=(8,6))\n",
    "sns.barplot(x=\"Gender\", y=\"Salary\", data=aerolineasin , palette=\"mako\")\n",
    "plt.title(\"Salario por Género\")\n",
    "plt.xlabel(\"Género\")\n",
    "plt.ylabel(\"Salario\")\n"
   ]
  },
  {
   "cell_type": "code",
   "execution_count": 25,
   "metadata": {},
   "outputs": [
    {
     "name": "stderr",
     "output_type": "stream",
     "text": [
      "C:\\Users\\jaime\\AppData\\Local\\Temp\\ipykernel_9072\\4122130862.py:2: FutureWarning: \n",
      "\n",
      "Passing `palette` without assigning `hue` is deprecated and will be removed in v0.14.0. Assign the `x` variable to `hue` and set `legend=False` for the same effect.\n",
      "\n",
      "  sns.boxplot(x=\"Gender\", y=\"Salary\", data=aerolineasin , palette=\"mako\")\n"
     ]
    },
    {
     "data": {
      "text/plain": [
       "Text(0, 0.5, 'Salario')"
      ]
     },
     "execution_count": 25,
     "metadata": {},
     "output_type": "execute_result"
    },
    {
     "data": {
      "image/png": "[encoded data removed]",
      "text/plain": [
       "<Figure size 800x1000 with 1 Axes>"
      ]
     },
     "metadata": {},
     "output_type": "display_data"
    }
   ],
   "source": [
    "plt.figure(figsize=(8,10))\n",
    "sns.boxplot(x=\"Gender\", y=\"Salary\", data=aerolineasin , palette=\"mako\")\n",
    "plt.title(\"Salario por Género\")\n",
    "plt.xlabel(\"Género\")\n",
    "plt.ylabel(\"Salario\")"
   ]
  },
  {
   "cell_type": "code",
   "execution_count": 26,
   "metadata": {},
   "outputs": [
    {
     "name": "stdout",
     "output_type": "stream",
     "text": [
      "La evaluación de la hipótesis entre Female y Male da un p-value de 1.8291925056993112e-05\n",
      "Hay diferencia\n",
      ".................\n"
     ]
    }
   ],
   "source": [
    "f.usar_whitney(aerolineasin,\"Gender\" , \"Salary\")"
   ]
  },
  {
   "cell_type": "markdown",
   "metadata": {},
   "source": [
    "A pesar de que en la gráfica parece no haber diferencia, tras contrastar la hipótesis mediante el método de Whitney nos sale que si que hay una diferencia significativa. Esto se traduce en que hay una diferencia entre Hombres y Mujeres en su salario, concretamente, los hombres cobran más que las mujeres."
   ]
  },
  {
   "cell_type": "markdown",
   "metadata": {},
   "source": [
    "De normal se debería haber usado Willcoxon pero dado que al eliminar nulos se han desequilibrado las muestras, ya no se puede. \n",
    "VOY A INTENTAR NO ELIMINAR LOS NULOS EN ESTE CASO Y APLICAR WILLCOXON\n"
   ]
  },
  {
   "cell_type": "code",
   "execution_count": null,
   "metadata": {},
   "outputs": [
    {
     "data": {
      "text/plain": [
       "Gender\n",
       "Female    152395\n",
       "Male      149105\n",
       "Name: count, dtype: int64"
      ]
     },
     "execution_count": 27,
     "metadata": {},
     "output_type": "execute_result"
    }
   ],
   "source": [
    "aerolineasin[\"Gender\"].value_counts()"
   ]
  },
  {
   "cell_type": "code",
   "execution_count": 28,
   "metadata": {},
   "outputs": [
    {
     "data": {
      "text/plain": [
       "Gender\n",
       "Female    202757\n",
       "Male      201003\n",
       "Name: count, dtype: int64"
      ]
     },
     "execution_count": 28,
     "metadata": {},
     "output_type": "execute_result"
    }
   ],
   "source": [
    "aerolinea[\"Gender\"].value_counts()"
   ]
  },
  {
   "cell_type": "code",
   "execution_count": 40,
   "metadata": {},
   "outputs": [],
   "source": [
    "listacardunique= aerolinea[\"Loyalty Card\"].unique()\n",
    "listacard= aerolinea.groupby(\"Loyalty Card\")[\"Salary\"].median()\n",
    "diccm={}\n",
    "for ind,val in zip(listacardunique,listacard):\n",
    "    diccm[ind]=val"
   ]
  },
  {
   "cell_type": "code",
   "execution_count": 41,
   "metadata": {},
   "outputs": [
    {
     "data": {
      "text/plain": [
       "{'Star': 74124.0, 'Aurora': 73360.0, 'Nova': 73135.0}"
      ]
     },
     "execution_count": 41,
     "metadata": {},
     "output_type": "execute_result"
    }
   ],
   "source": [
    "diccm"
   ]
  },
  {
   "cell_type": "code",
   "execution_count": 42,
   "metadata": {},
   "outputs": [],
   "source": [
    "aerolinea[\"Salary\"] = aerolinea[\"Salary\"].fillna(aerolinea[\"Loyalty Card\"].map(diccm))"
   ]
  },
  {
   "cell_type": "code",
   "execution_count": 43,
   "metadata": {},
   "outputs": [
    {
     "name": "stdout",
     "output_type": "stream",
     "text": [
      "<class 'pandas.core.frame.DataFrame'>\n",
      "Index: 403760 entries, 0 to 405623\n",
      "Data columns (total 16 columns):\n",
      " #   Column              Non-Null Count   Dtype  \n",
      "---  ------              --------------   -----  \n",
      " 0   Loyalty Number      403760 non-null  int64  \n",
      " 1   Province            403760 non-null  object \n",
      " 2   City                403760 non-null  object \n",
      " 3   Gender              403760 non-null  object \n",
      " 4   Education           403760 non-null  object \n",
      " 5   Salary              403760 non-null  float64\n",
      " 6   Loyalty Card        403760 non-null  object \n",
      " 7   CLV                 403760 non-null  float64\n",
      " 8   Enrollment Type     403760 non-null  object \n",
      " 9   Enrollment Year     403760 non-null  int64  \n",
      " 10  Enrollment Month    403760 non-null  int64  \n",
      " 11  Year                403760 non-null  int64  \n",
      " 12  Month               403760 non-null  int64  \n",
      " 13  Flights Booked      403760 non-null  int64  \n",
      " 14  Distance            403760 non-null  int64  \n",
      " 15  Points Accumulated  403760 non-null  float64\n",
      "dtypes: float64(3), int64(7), object(6)\n",
      "memory usage: 52.4+ MB\n"
     ]
    }
   ],
   "source": [
    "aerolinea.info()"
   ]
  },
  {
   "cell_type": "markdown",
   "metadata": {},
   "source": [
    "Como aun rellenando los nulos quedan diferencias en el tamaño de las muestras, re muestreamos aleatoriamente de nuestras muestras para conseguir dos de igual tamaño muestral y ya sacamos el test de Wilcoxon"
   ]
  },
  {
   "cell_type": "code",
   "execution_count": 49,
   "metadata": {},
   "outputs": [
    {
     "name": "stdout",
     "output_type": "stream",
     "text": [
      "Hay diferencia\n",
      ".................\n"
     ]
    }
   ],
   "source": [
    "salarios_male = aerolinea[aerolinea[\"Gender\"] == \"Male\"][\"Salary\"]\n",
    "salarios_female = aerolinea[aerolinea[\"Gender\"] == \"Female\"][\"Salary\"]\n",
    "\n",
    "min_length = min(len(salarios_male), len(salarios_female))\n",
    "salarios_male = salarios_male.sample(n=min_length, random_state=1)\n",
    "salarios_female = salarios_female.sample(n=min_length, random_state=1)\n",
    "\n",
    "estadistico,p_value = stats.wilcoxon(salarios_male, salarios_female)\n",
    "if p_value >= 0.05:\n",
    "    print(\"No hay diferencia\")\n",
    "    print(\".................\")\n",
    "else:\n",
    "    print(\"Hay diferencia\")\n",
    "    print(\".................\")\n"
   ]
  },
  {
   "cell_type": "markdown",
   "metadata": {},
   "source": [
    "Aquí comprobamos mediante el test Wilcoxon que efectivamente si que se encuentran diferencias en los salarios de los distintos grupos (Hombres y Mujeres)."
   ]
  }
 ],
 "metadata": {
  "kernelspec": {
   "display_name": "Python 3",
   "language": "python",
   "name": "python3"
  },
  "language_info": {
   "codemirror_mode": {
    "name": "ipython",
    "version": 3
   },
   "file_extension": ".py",
   "mimetype": "text/x-python",
   "name": "python",
   "nbconvert_exporter": "python",
   "pygments_lexer": "ipython3",
   "version": "3.11.9"
  }
 },
 "nbformat": 4,
 "nbformat_minor": 2
}
